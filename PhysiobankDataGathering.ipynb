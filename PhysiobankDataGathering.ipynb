{
 "cells": [
  {
   "cell_type": "markdown",
   "metadata": {},
   "source": [
    "# Getting Physiobank data with the WFDB package #\n",
    "\n",
    "An efficient way of downloading all of the records of a given Physiobank database is using the wfdb Python package (https://github.com/MIT-LCP/wfdb-python). In this case, the Gait Dynamics in Neuro-Degenerative Disease records will be downloaded."
   ]
  },
  {
   "cell_type": "code",
   "execution_count": 2,
   "metadata": {},
   "outputs": [],
   "source": [
    "import os\n",
    "import numpy as np\n",
    "import matplotlib.pyplot as plt\n",
    "import wfdb\n",
    "\n",
    "%matplotlib inline"
   ]
  },
  {
   "cell_type": "markdown",
   "metadata": {},
   "source": [
    "First, let's see a list of all the available Physiobank databases"
   ]
  },
  {
   "cell_type": "code",
   "execution_count": 4,
   "metadata": {},
   "outputs": [
    {
     "data": {
      "text/plain": [
       "[['adfecgdb', 'Abdominal and Direct Fetal ECG Database'],\n",
       " ['aftdb', 'AF Termination Challenge Database'],\n",
       " ['ahadb', 'AHA Database [sample excluded record]'],\n",
       " ['aami-ec13', 'ANSI/AAMI EC13 Test Waveforms'],\n",
       " ['apnea-ecg', 'Apnea-ECG Database'],\n",
       " ['chfdb', 'BIDMC Congestive Heart Failure Database'],\n",
       " ['bidmc', 'BIDMC PPG and Respiration Dataset'],\n",
       " ['bpssrat', 'Blood Pressure in Salt-Sensitive Dahl Rats'],\n",
       " ['capslpdb', 'CAP Sleep Database'],\n",
       " ['crisdb', 'CAST RR Interval Sub-Study Database'],\n",
       " ['cves', 'Cerebral Vasoregulation in Elderly with Stroke'],\n",
       " ['challenge/2009/test-set-a', 'Challenge 2009 Test Set A'],\n",
       " ['challenge/2009/test-set-b', 'Challenge 2009 Test Set B'],\n",
       " ['challenge/2010/set-a', 'Challenge 2010 Training Set A'],\n",
       " ['challenge/2010/set-b', 'Challenge 2010 Test Set B'],\n",
       " ['challenge/2010/set-c', 'Challenge 2010 Test Set C'],\n",
       " ['challenge/2011/sim', 'Challenge 2011 Pilot Set'],\n",
       " ['challenge/2011/set-a', 'Challenge 2011 Training Set A'],\n",
       " ['challenge/2011/set-b', 'Challenge 2011 Test Set B'],\n",
       " ['challenge/2013/set-a', 'Challenge 2013 Training Set A'],\n",
       " ['challenge/2013/set-b', 'Challenge 2013 Test Set B'],\n",
       " ['challenge/2014/set-p2', 'Challenge 2014 Extended Training Set'],\n",
       " ['challenge/2014/set-p', 'Challenge 2014 Training Set'],\n",
       " ['challenge/2015/training', 'Challenge 2015 Training Set'],\n",
       " ['challenge/2016/training-a', 'Challenge 2016 Training Set A'],\n",
       " ['challenge/2016/training-b', 'Challenge 2016 Training Set B'],\n",
       " ['challenge/2016/training-c', 'Challenge 2016 Training Set C'],\n",
       " ['challenge/2016/training-d', 'Challenge 2016 Training Set D'],\n",
       " ['challenge/2016/training-e', 'Challenge 2016 Training Set E'],\n",
       " ['challenge/2016/training-f', 'Challenge 2016 Training Set F'],\n",
       " ['challenge/2017/training', 'Challenge 2017 Training Set'],\n",
       " ['challenge/2018/training', 'Challenge 2018 Training Set'],\n",
       " ['challenge/2018/test', 'Challenge 2018 Test Set'],\n",
       " ['charisdb', 'CHARIS database'],\n",
       " ['chbmit', 'CHB-MIT Scalp EEG Database'],\n",
       " ['cebsdb', 'Combined measurement of ECG, Breathing and Seismocardiograms'],\n",
       " ['culm', 'Complex Upper-Limb Movements'],\n",
       " ['chf2db', 'Congestive Heart Failure RR Interval Database'],\n",
       " ['ctu-uhb-ctgdb', 'CTU-CHB Intrapartum Cardiotocography Database'],\n",
       " ['cudb', 'CU Ventricular Tachyarrhythmia Database'],\n",
       " ['ecgdmmld',\n",
       "  'ECG Effects of Dofetilide, Moxifloxacin, Dofetilide+Mexiletine, Dofetilide+Lidocaine and Moxifloxacin+Diltiazem'],\n",
       " ['ecgrdvq',\n",
       "  'ECG Effects of Ranolazine, Dofetilide, Verapamil, and Quinidine'],\n",
       " ['ecgiddb', 'ECG-ID Database'],\n",
       " ['eegmmidb', 'EEG Motor Movement/Imagery Dataset'],\n",
       " ['ltrsvp', 'EEG Signals from an RSVP Task'],\n",
       " ['erpbci', 'ERP-based Brain-Computer Interface recordings'],\n",
       " ['edb', 'European ST-T Database'],\n",
       " ['earh', 'Evoked Auditory Responses in Heading Impaired'],\n",
       " ['earndb', 'Evoked Auditory Responses in Normals'],\n",
       " ['emgdb', 'Examples of Electromyograms'],\n",
       " ['fantasia', 'Fantasia Database'],\n",
       " ['fecgsyndb', 'Fetal ECG Synthetic Database'],\n",
       " ['fpcgdb', 'Fetal PCG Database'],\n",
       " ['gaitdb', 'Gait in Aging and Disease Database'],\n",
       " ['gaitndd', 'Gait in Neurodegenerative Disease Database'],\n",
       " ['gait-maturation-db/data', 'Gait Maturation Database'],\n",
       " ['meditation/data', 'Heart Rate Oscillations during Meditation'],\n",
       " ['hbedb', 'Human Balance Evaluation Database'],\n",
       " ['ehgdb', 'Icelandic 16-electrode Electrohysterogram Database'],\n",
       " ['iafdb', 'Intracardiac Atrial Fibrillation Database'],\n",
       " ['ltafdb', 'Long Term AF Database'],\n",
       " ['ltstdb', 'Long Term ST Database'],\n",
       " ['mssvepdb', 'MAMEM SSVEP Database'],\n",
       " ['mghdb', 'MGH/MF Waveform Database'],\n",
       " ['mimicdb', 'MIMIC Database'],\n",
       " ['mimicdb/numerics', 'MIMIC Database Numerics'],\n",
       " ['mimic2cdb', 'MIMIC II Clinical Database Public Subset'],\n",
       " ['mimic2wdb/30', 'MIMIC II/III Waveform Database, part 0'],\n",
       " ['mimic2wdb/31', 'MIMIC II/III Waveform Database, part 1'],\n",
       " ['mimic2wdb/32', 'MIMIC II/III Waveform Database, part 2'],\n",
       " ['mimic2wdb/33', 'MIMIC II/III Waveform Database, part 3'],\n",
       " ['mimic2wdb/34', 'MIMIC II/III Waveform Database, part 4'],\n",
       " ['mimic2wdb/35', 'MIMIC II/III Waveform Database, part 5'],\n",
       " ['mimic2wdb/36', 'MIMIC II/III Waveform Database, part 6'],\n",
       " ['mimic2wdb/37', 'MIMIC II/III Waveform Database, part 7'],\n",
       " ['mimic2wdb/38', 'MIMIC II/III Waveform Database, part 8'],\n",
       " ['mimic2wdb/39', 'MIMIC II/III Waveform Database, part 9'],\n",
       " ['mimic2wdb/matched', 'MIMIC II Waveform Database Matched Subset'],\n",
       " ['mimic3wdb/matched', 'MIMIC III Waveform Database Matched Subset'],\n",
       " ['mitdb', 'MIT-BIH Arrhythmia Database'],\n",
       " ['pwave', 'MIT-BIH Arrhythmia Database P-Wave Annotations'],\n",
       " ['afdb', 'MIT-BIH Atrial Fibrillation Database'],\n",
       " ['cdb', 'MIT-BIH ECG Compression Test Database'],\n",
       " ['ltdb', 'MIT-BIH Long-Term ECG Database'],\n",
       " ['vfdb', 'MIT-BIH Malignant Ventricular Ectopy Database'],\n",
       " ['nstdb', 'MIT-BIH Noise Stress Test Database'],\n",
       " ['nsrdb', 'MIT-BIH Normal Sinus Rhythm Database'],\n",
       " ['excluded', '... [Recordings excluded from the NSR DB]'],\n",
       " ['slpdb', 'MIT-BIH Polysomnographic Database'],\n",
       " ['stdb', 'MIT-BIH ST Change Database'],\n",
       " ['svdb', 'MIT-BIH Supraventricular Arrhythmia Database'],\n",
       " ['mmgdb', 'MMG Database'],\n",
       " ['macecgdb', 'Motion Artifact Contaminated ECG Database'],\n",
       " ['motion-artifact', 'Motion Artifact Contaminated fNIRS and EEG Data'],\n",
       " ['noneeg', 'Non-EEG Dataset for Assessment of Neurological Status'],\n",
       " ['nifecgdb', 'Non-Invasive Fetal ECG Database'],\n",
       " ['nsr2db', 'Normal Sinus Rhythm RR Interval Database'],\n",
       " ['ob1db', 'OB-1 Fetal ECG Database [sample record]'],\n",
       " ['afpdb', 'PAF Prediction Challenge Database'],\n",
       " ['osv', 'Pattern Analysis of Oxygen Saturation Variability'],\n",
       " ['prcp', 'Physiologic Response to Changes in Posture'],\n",
       " ['szdb', 'Post-Ictal Heart Rate Oscillations in Partial Epilepsy'],\n",
       " ['picsdb', 'Preterm Infant Cardio-Respiratory Signals Database'],\n",
       " ['ptbdb', 'PTB Diagnostic ECG Database'],\n",
       " ['qtdb', 'QT Database'],\n",
       " ['rvmh1', 'Response to Valsalva Maneuver in Humans'],\n",
       " ['sufhsdb', 'Shiraz University Fetal Heart Sounds Database'],\n",
       " ['simfpcgdb', 'Simulated Fetal Phonocardiograms'],\n",
       " ['sleepbrl', 'Sleep Bioradiolocation Database'],\n",
       " ['sleep-edfx', 'Sleep-EDF Database [Expanded]'],\n",
       " ['shhpsgdb', 'Sleep Heart Health Study PSG Database [sample record]'],\n",
       " ['shareedb',\n",
       "  'Smart Health for Assessing the Risk of Events via ECG Database'],\n",
       " ['mvtdb/data', 'Spontaneous Ventricular Tachyarrhythmia Database'],\n",
       " ['sgamp', 'Squid Giant Axon Membrane Potential'],\n",
       " ['incartdb', 'St Petersburg INCART 12-lead Arrhythmia Database'],\n",
       " ['staffiii', 'STAFF III Database'],\n",
       " ['drivedb', 'Stress Recognition in Automobile Drivers'],\n",
       " ['sddb', 'Sudden Cardiac Death Holter Database'],\n",
       " ['twadb', 'T-Wave Alternans Challenge Database'],\n",
       " ['taichidb', 'Tai Chi, Physiological Complexity, and Healthy Aging - Gait'],\n",
       " ['tpehgdb', 'Term-Preterm EHG Database'],\n",
       " ['tpehgt', 'Term-Preterm EHG DataSet with Tocogram (TPEHGT DS)'],\n",
       " ['ucddb', 'UCD Sleep Apnea Database'],\n",
       " ['unicaprop', 'UniCA ElectroTastegram Database (PROP)'],\n",
       " ['videopulse', 'Video Pulse Signals in Stationary and Motion Conditions'],\n",
       " ['voiced', 'VOice ICar fEDerico II Database'],\n",
       " ['wrist', 'Wrist PPG During Exercise'],\n",
       " ['mimic2db', 'MIMIC II Waveform DB, v2 [deprecated, use v3]'],\n",
       " ['mimic2db/numerics',\n",
       "  'MIMIC II Waveform DB, v2 Numerics [deprecated, use v3]'],\n",
       " ['sleep-edf', 'Sleep-EDF Database, v1 [deprecated, use sleep-edfx]']]"
      ]
     },
     "metadata": {},
     "output_type": "display_data"
    }
   ],
   "source": [
    "dbs = wfdb.get_dbs()\n",
    "display(dbs)"
   ]
  },
  {
   "cell_type": "markdown",
   "metadata": {},
   "source": [
    "Let's download the _gaitndd_ database into our working directory"
   ]
  },
  {
   "cell_type": "code",
   "execution_count": 25,
   "metadata": {},
   "outputs": [
    {
     "data": {
      "text/plain": [
       "'/home/mmontes/BecaColab1819'"
      ]
     },
     "execution_count": 25,
     "metadata": {},
     "output_type": "execute_result"
    }
   ],
   "source": [
    "cwd = os.getcwd()\n"
   ]
  },
  {
   "cell_type": "code",
   "execution_count": 26,
   "metadata": {},
   "outputs": [],
   "source": [
    "data_dir = cwd + '/data/'"
   ]
  },
  {
   "cell_type": "code",
   "execution_count": 10,
   "metadata": {},
   "outputs": [
    {
     "name": "stdout",
     "output_type": "stream",
     "text": [
      "Downloading files...\n",
      "Finished downloading files\n"
     ]
    }
   ],
   "source": [
    "# wfdb.dl_database('gaitndd', dl_dir=data_dir)"
   ]
  },
  {
   "cell_type": "markdown",
   "metadata": {},
   "source": [
    "The database also includes time series data in plain text format. These files have not been downloaded with the wfdb.dldatabase function."
   ]
  },
  {
   "cell_type": "code",
   "execution_count": 12,
   "metadata": {},
   "outputs": [],
   "source": [
    "import urllib.request\n",
    "from bs4 import BeautifulSoup\n",
    "import requests"
   ]
  },
  {
   "cell_type": "code",
   "execution_count": 36,
   "metadata": {
    "scrolled": true
   },
   "outputs": [
    {
     "name": "stdout",
     "output_type": "stream",
     "text": [
      "Downloading als1.ts...\n",
      "Downloading als10.ts...\n",
      "Downloading als11.ts...\n",
      "Downloading als12.ts...\n",
      "Downloading als13.ts...\n",
      "Downloading als2.ts...\n",
      "Downloading als3.ts...\n",
      "Downloading als4.ts...\n",
      "Downloading als5.ts...\n",
      "Downloading als6.ts...\n",
      "Downloading als7.ts...\n",
      "Downloading als8.ts...\n",
      "Downloading als9.ts...\n",
      "Downloading control1.ts...\n",
      "Downloading control10.ts...\n",
      "Downloading control11.ts...\n",
      "Downloading control12.ts...\n",
      "Downloading control13.ts...\n",
      "Downloading control14.ts...\n",
      "Downloading control15.ts...\n",
      "Downloading control16.ts...\n",
      "Downloading control2.ts...\n",
      "Downloading control3.ts...\n",
      "Downloading control4.ts...\n",
      "Downloading control5.ts...\n",
      "Downloading control6.ts...\n",
      "Downloading control7.ts...\n",
      "Downloading control8.ts...\n",
      "Downloading control9.ts...\n",
      "Downloading hunt1.ts...\n",
      "Downloading hunt10.ts...\n",
      "Downloading hunt11.ts...\n",
      "Downloading hunt12.ts...\n",
      "Downloading hunt13.ts...\n",
      "Downloading hunt14.ts...\n",
      "Downloading hunt15.ts...\n",
      "Downloading hunt16.ts...\n",
      "Downloading hunt17.ts...\n",
      "Downloading hunt18.ts...\n",
      "Downloading hunt19.ts...\n",
      "Downloading hunt2.ts...\n",
      "Downloading hunt20.ts...\n",
      "Downloading hunt3.ts...\n",
      "Downloading hunt4.ts...\n",
      "Downloading hunt5.ts...\n",
      "Downloading hunt6.ts...\n",
      "Downloading hunt7.ts...\n",
      "Downloading hunt8.ts...\n",
      "Downloading hunt9.ts...\n",
      "Downloading park1.ts...\n",
      "Downloading park10.ts...\n",
      "Downloading park11.ts...\n",
      "Downloading park12.ts...\n",
      "Downloading park13.ts...\n",
      "Downloading park14.ts...\n",
      "Downloading park15.ts...\n",
      "Downloading park2.ts...\n",
      "Downloading park3.ts...\n",
      "Downloading park4.ts...\n",
      "Downloading park5.ts...\n",
      "Downloading park6.ts...\n",
      "Downloading park7.ts...\n",
      "Downloading park8.ts...\n",
      "Downloading park9.ts...\n"
     ]
    }
   ],
   "source": [
    "# Download all .ts files\n",
    "\n",
    "url = 'https://physionet.org/physiobank/database/gaitndd'\n",
    "r = requests.get(url)\n",
    "soup = BeautifulSoup(r.text)\n",
    "link = ''\n",
    "for i, line in enumerate(soup.findAll('a', href=True)):\n",
    "    link = line.get('href')\n",
    "    if link[-3:] == '.ts':\n",
    "        print('Downloading', link + '...')\n",
    "        file_url = url + '/' + link\n",
    "        urllib.request.urlretrieve(file_url, data_dir + link)"
   ]
  },
  {
   "cell_type": "code",
   "execution_count": null,
   "metadata": {},
   "outputs": [],
   "source": []
  }
 ],
 "metadata": {
  "kernelspec": {
   "display_name": "Python 3",
   "language": "python",
   "name": "python3"
  },
  "language_info": {
   "codemirror_mode": {
    "name": "ipython",
    "version": 3
   },
   "file_extension": ".py",
   "mimetype": "text/x-python",
   "name": "python",
   "nbconvert_exporter": "python",
   "pygments_lexer": "ipython3",
   "version": "3.6.6"
  }
 },
 "nbformat": 4,
 "nbformat_minor": 2
}
