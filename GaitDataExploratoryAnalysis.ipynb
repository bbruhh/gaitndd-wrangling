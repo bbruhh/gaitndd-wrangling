{
 "cells": [
  {
   "cell_type": "markdown",
   "metadata": {},
   "source": [
    "# Processing gait neuro-degenerative disease data"
   ]
  },
  {
   "cell_type": "code",
   "execution_count": null,
   "metadata": {},
   "outputs": [],
   "source": [
    "import os\n",
    "import numpy as np\n",
    "import matplotlib.pyplot as plt\n",
    "from IPython.display import display\n",
    "import pandas as pd\n",
    "from scipy import stats\n",
    "import wfdb\n",
    "import re\n",
    "\n",
    "%matplotlib inline"
   ]
  },
  {
   "cell_type": "markdown",
   "metadata": {},
   "source": [
    "## Explore records of each disease"
   ]
  },
  {
   "cell_type": "markdown",
   "metadata": {},
   "source": [
    "### ALS"
   ]
  },
  {
   "cell_type": "code",
   "execution_count": null,
   "metadata": {},
   "outputs": [],
   "source": [
    "als_files = []\n",
    "for file in os.listdir(\"data\"):\n",
    "    if file.startswith(\"als\") and file.endswith(\".ts\"):\n",
    "        als_files.append(file)\n",
    "\n",
    "als_files.sort(key=lambda filename: int(filename[3:-3]))"
   ]
  },
  {
   "cell_type": "code",
   "execution_count": null,
   "metadata": {},
   "outputs": [],
   "source": [
    "als_dataframes = []\n",
    "for file in als_files:\n",
    "    path = os.path.join(\"data\", file)\n",
    "    df = pd.read_csv(path, sep=\"\\t\", names=header)\n",
    "    als_dataframes.append(df)"
   ]
  },
  {
   "cell_type": "code",
   "execution_count": null,
   "metadata": {
    "scrolled": true
   },
   "outputs": [],
   "source": [
    "fig, axes = plt.subplots(figsize=(18, 36), nrows=(len(als_dataframes)//2)+1, ncols=2)\n",
    "columns = [\"Left Stride Interval\",\n",
    "           \"Right Stride Interval\",\n",
    "           \"Left Stance Interval\",\n",
    "           \"Right Stance Interval\",\n",
    "          \"Left Swing Interval\",\n",
    "          \"Right Swing Interval\"]\n",
    "for i, df in enumerate(als_dataframes):\n",
    "    df.plot(x=\"Elapsed Time\", y=columns, ax=axes[i//2, i%2])"
   ]
  },
  {
   "cell_type": "code",
   "execution_count": null,
   "metadata": {},
   "outputs": [],
   "source": [
    "# There are some outliers -> get rid of them?\n",
    "fig, axes = plt.subplots(figsize=(15, 30), nrows=(len(als_dataframes)//2)+1, ncols=2)\n",
    "for i, df in enumerate(als_dataframes):\n",
    "    df.boxplot([\"Left Stride Interval\", \"Right Stride Interval\"], ax=axes[i//2, i%2])"
   ]
  },
  {
   "cell_type": "code",
   "execution_count": null,
   "metadata": {},
   "outputs": [],
   "source": [
    "# Are outliers errors or true measurements??\n",
    "# Substitute outliers with average?"
   ]
  },
  {
   "cell_type": "code",
   "execution_count": null,
   "metadata": {},
   "outputs": [],
   "source": [
    "# Perform box-cox transformations on time series\n",
    "columns = [\"Left Stride Interval\",\n",
    "           \"Right Stride Interval\",\n",
    "           \"Left Stance Interval\",\n",
    "           \"Right Stance Interval\",\n",
    "          \"Left Swing Interval\",\n",
    "          \"Right Swing Interval\"]\n",
    "for df in als_dataframes:\n",
    "    for col in columns:\n",
    "        df[col + \" Corr.\"], _ = stats.boxcox(df[col])"
   ]
  },
  {
   "cell_type": "code",
   "execution_count": null,
   "metadata": {
    "scrolled": true
   },
   "outputs": [],
   "source": [
    "fig, axes = plt.subplots(figsize=(15, 30), nrows=(len(als_dataframes)//2)+1, ncols=2)\n",
    "for i, df in enumerate(als_dataframes):\n",
    "    df.plot(x=\"Elapsed Time\", y=[\"Left Stride Interval Corr.\", \"Right Stride Interval Corr.\"], ax=axes[i//2, i%2])"
   ]
  }
 ],
 "metadata": {
  "kernelspec": {
   "display_name": "Python 3",
   "language": "python",
   "name": "python3"
  },
  "language_info": {
   "codemirror_mode": {
    "name": "ipython",
    "version": 3
   },
   "file_extension": ".py",
   "mimetype": "text/x-python",
   "name": "python",
   "nbconvert_exporter": "python",
   "pygments_lexer": "ipython3",
   "version": "3.6.6"
  }
 },
 "nbformat": 4,
 "nbformat_minor": 2
}
